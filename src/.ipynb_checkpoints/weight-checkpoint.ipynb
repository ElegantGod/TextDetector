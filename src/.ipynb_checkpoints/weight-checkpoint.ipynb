{
 "metadata": {
  "name": "",
  "signature": "sha256:f7cd4884159f1be55aef8d33f3588fb731766ae3f608433e3f5685fe23c9e16d"
 },
 "nbformat": 3,
 "nbformat_minor": 0,
 "worksheets": []
}