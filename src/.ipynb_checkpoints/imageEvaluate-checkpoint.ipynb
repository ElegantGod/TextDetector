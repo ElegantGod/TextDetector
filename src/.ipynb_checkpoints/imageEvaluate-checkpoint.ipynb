{
 "metadata": {
  "name": ""
 },
 "nbformat": 3,
 "nbformat_minor": 0,
 "worksheets": [
  {
   "cells": [
    {
     "cell_type": "code",
     "collapsed": false,
     "input": [
      "#!/usr/bin/env python\n",
      "#title           :testClassifier.py\n",
      "#description     :Test classifier and plot performance evaluation.\n",
      "#author          :siyu zhu\n",
      "#date            :March 17, 2014\n",
      "#version         :0.1\n",
      "#usage           :python testClassifier.py\n",
      "#notes           :\n",
      "#python_version  :2.7\n",
      "\n",
      "#==============================================================================\n",
      "# import modules\n",
      "import numpy\n",
      "import scipy\n",
      "import matplotlib.pyplot as plt\n",
      "from sklearn import metrics, preprocessing\n",
      "import os\n",
      "# define threshold Scaling \n",
      "def threScale(t):\n",
      "    # make threshold plotable by making its value from 0 ~ 1 and length equal to precision and recall vector\n",
      "    t = numpy.append(t, t[-1])\n",
      "    t = t - numpy.min(t)\n",
      "    t = t / numpy.max(t)\n",
      "    return t\n",
      "\n",
      "# define F metric \n",
      "def fmetric(pre, rec):\n",
      "    # compute f1 metric from precision and recall vector;\n",
      "    f = 2*pre*rec/(pre+rec)\n",
      "    return f"
     ],
     "language": "python",
     "metadata": {},
     "outputs": [],
     "prompt_number": 1
    },
    {
     "cell_type": "code",
     "collapsed": false,
     "input": [
      "imdir = './mask/'\n",
      "labeldir = './word_label/'\n",
      "filelist = os.listdir(imdir)\n",
      "\n",
      "pred = numpy.empty(156987908, dtype = numpy.float32) # total length of prediction and label\n",
      "label = numpy.empty(156987908, dtype = numpy.float32) # total length of prediction and label\n",
      "n = 0\n",
      "for f in filelist:\n",
      "    if not f.endswith('jpg'):\n",
      "        print 'not a valid filename'\n",
      "        continue  \n",
      "    filename = f.split('.')[0]\n",
      "    imfilename = filename + '.jpg'\n",
      "    labelfilename = 'gt_' + filename + '.txt'\n",
      "    imfile = os.path.join(imdir, imfilename)\n",
      "    labelfile = os.path.join(labeldir, labelfilename)\n",
      "    im = scipy.misc.imread(imfile) # read image detection map\n",
      "    im = numpy.float32(im)\n",
      "    im = im/numpy.max(im)\n",
      "    fid = open(labelfile)\n",
      "    im0 = numpy.zeros(im.shape) # read label file\n",
      "    \n",
      "    for line in fid.readlines():\n",
      "        l = line.split(' ')\n",
      "        x1 = int(l[0])\n",
      "        y1 = int(l[1])\n",
      "        x2 = int(l[2])\n",
      "        y2 = int(l[3])\n",
      "        im0[y1:y2, x1:x2] = 1    \n",
      "    fid.close()\n",
      "    im = numpy.ndarray.flatten(im) # prediction image\n",
      "    im0 = numpy.ndarray.flatten(im0) # label image\n",
      "    pred[n: n+im.shape[0]] = im\n",
      "    label[n: n+im.shape[0]] = im0\n",
      "    \n",
      "    print 'file name:', f, 'index:', n, n+im.shape[0]\n",
      "    n = n + im.shape[0]"
     ],
     "language": "python",
     "metadata": {},
     "outputs": [
      {
       "output_type": "stream",
       "stream": "stdout",
       "text": [
        "file name: 287.jpg index: 0 1228800\n",
        "file name: 291.jpg index: 1228800 1536000\n",
        "file name: 228.jpg index: 1536000 1843200\n",
        "file name: 281.jpg index: 1843200 2150400\n",
        "file name: 186.jpg index: 2150400 2457600\n",
        "file name:"
       ]
      },
      {
       "output_type": "stream",
       "stream": "stdout",
       "text": [
        " 226.jpg index: 2457600 12535296\n",
        "file name: 113.jpg index: 12535296 12842496\n",
        "file name: 197.jpg index: 12842496 13149696\n",
        "file name:"
       ]
      },
      {
       "output_type": "stream",
       "stream": "stdout",
       "text": [
        " 126.jpg index: 13149696 15069696\n",
        "file name: 105.jpg index: 15069696 16298496\n",
        "file name: 190.jpg index: 16298496 16605696\n",
        "file name: 206.jpg index: 16605696 16912896\n",
        "file name: 135.jpg index: 16912896 17220096\n",
        "file name:"
       ]
      },
      {
       "output_type": "stream",
       "stream": "stdout",
       "text": [
        " 289.jpg index: 17220096 18448896\n",
        "file name: 222.jpg index: 18448896 19235328\n",
        "file name: 152.jpg index: 19235328 21155328\n",
        "file name: 164.jpg index: 21155328 21462528\n",
        "file name:"
       ]
      },
      {
       "output_type": "stream",
       "stream": "stdout",
       "text": [
        " 322.jpg index: 21462528 21769728\n",
        "file name: 256.jpg index: 21769728 22556160\n",
        "file name: 275.jpg index: 22556160 22863360\n",
        "file name: 251.jpg index: 22863360 23170560\n",
        "file name: 305.jpg index: 23170560 23691763\n",
        "file name: 284.jpg index: 23691763 23998963\n",
        "file name:"
       ]
      },
      {
       "output_type": "stream",
       "stream": "stdout",
       "text": [
        " 303.jpg index: 23998963 34076659\n",
        "file name: 156.jpg index: 34076659 35305459\n",
        "file name: 118.jpg index: 35305459 35603699\n",
        "file name: 193.jpg index: 35603699 35910899\n",
        "file name: 260.jpg index: 35910899 36218099\n",
        "file name: 131.jpg index: 36218099 36525299\n",
        "file name:"
       ]
      },
      {
       "output_type": "stream",
       "stream": "stdout",
       "text": [
        " 306.jpg index: 36525299 46602995\n",
        "file name: 282.jpg index: 46602995 46910195\n",
        "file name: 100.jpg index: 46910195 47217395\n",
        "file name: 311.jpg index: 47217395 47524595\n",
        "file name: 103.jpg index: 47524595 47831795\n",
        "file name: 107.jpg index: 47831795 48138995\n",
        "file name: 158.jpg index: 48138995 48446195\n",
        "file name: 242.jpg index: 48446195 48753395\n",
        "file name: 139.jpg index: 48753395 49060595\n",
        "file name:"
       ]
      },
      {
       "output_type": "stream",
       "stream": "stdout",
       "text": [
        " 304.jpg index: 49060595 49367795\n",
        "file name: 230.jpg index: 49367795 49674995\n",
        "file name: 248.jpg index: 49674995 49982195\n",
        "file name:"
       ]
      },
      {
       "output_type": "stream",
       "stream": "stdout",
       "text": [
        " 129.jpg index: 49982195 60059891\n",
        "file name: 326.jpg index: 60059891 60367091\n",
        "file name: 188.jpg index: 60367091 60674291\n",
        "file name:"
       ]
      },
      {
       "output_type": "stream",
       "stream": "stdout",
       "text": [
        " 315.jpg index: 60674291 70751987\n",
        "file name: 278.jpg index: 70751987 71059187\n",
        "file name: 263.jpg index: 71059187 71192307\n",
        "file name: 207.jpg index: 71192307 71499507\n",
        "file name: 177.jpg index: 71499507 71806707\n",
        "file name: 204.jpg index: 71806707 72113907\n",
        "file name:"
       ]
      },
      {
       "output_type": "stream",
       "stream": "stdout",
       "text": [
        " 133.jpg index: 72113907 72421107\n",
        "file name: 243.jpg index: 72421107 72728307\n",
        "file name:"
       ]
      },
      {
       "output_type": "stream",
       "stream": "stdout",
       "text": [
        " 285.jpg index: 72728307 82806003\n",
        "file name:"
       ]
      },
      {
       "output_type": "stream",
       "stream": "stdout",
       "text": [
        " 130.jpg index: 82806003 84726003\n",
        "file name: 202.jpg index: 84726003 85033203\n",
        "file name: 178.jpg index: 85033203 85381083\n",
        "file name: 250.jpg index: 85381083 85678683\n",
        "file name: 276.jpg index: 85678683 85985883\n",
        "file name:"
       ]
      },
      {
       "output_type": "stream",
       "stream": "stdout",
       "text": [
        " 109.jpg index: 85985883 96063579\n",
        "file name:"
       ]
      },
      {
       "output_type": "stream",
       "stream": "stdout",
       "text": [
        " 301.jpg index: 96063579 106141275\n",
        "file name: 189.jpg index: 106141275 106448475\n",
        "not a valid filename\n",
        "file name: 268.jpg index: 106448475 106755675\n",
        "file name: 166.jpg index: 106755675 107062875\n",
        "file name:"
       ]
      },
      {
       "output_type": "stream",
       "stream": "stdout",
       "text": [
        " 148.jpg index: 107062875 107536260\n",
        "file name: 258.jpg index: 107536260 107843460\n",
        "file name:"
       ]
      },
      {
       "output_type": "stream",
       "stream": "stdout",
       "text": [
        " 227.jpg index: 107843460 117921156\n",
        "file name: 237.jpg index: 117921156 118228356\n",
        "file name: 182.jpg index: 118228356 118535556\n",
        "file name:"
       ]
      },
      {
       "output_type": "stream",
       "stream": "stdout",
       "text": [
        " 267.jpg index: 118535556 128613252\n",
        "file name: 138.jpg index: 128613252 129842052\n",
        "file name:"
       ]
      },
      {
       "output_type": "stream",
       "stream": "stdout",
       "text": [
        " 265.jpg index: 129842052 139919748\n",
        "file name:"
       ]
      },
      {
       "output_type": "stream",
       "stream": "stdout",
       "text": [
        " 218.jpg index: 139919748 149997444\n",
        "file name: 209.jpg index: 149997444 150304644\n",
        "file name: 201.jpg index: 150304644 150611844\n",
        "file name: 171.jpg index: 150611844 150919044\n",
        "file name:"
       ]
      },
      {
       "output_type": "stream",
       "stream": "stdout",
       "text": [
        " 309.jpg index: 150919044 151226244\n",
        "file name: 318.jpg index: 151226244 151533444\n",
        "file name: 160.jpg index: 151533444 151668768\n",
        "file name: 121.jpg index: 151668768 151975968\n",
        "file name: 292.jpg index: 151975968 152283168\n",
        "file name: 200.jpg index: 152283168 152590368\n",
        "file name: 213.jpg index: 152590368 152897568\n",
        "file name:"
       ]
      },
      {
       "output_type": "stream",
       "stream": "stdout",
       "text": [
        " 210.jpg index: 152897568 153204768\n",
        "file name: 184.jpg index: 153204768 153364152\n",
        "file name: 214.jpg index: 153364152 153671352\n",
        "file name: 239.jpg index: 153671352 153978552\n",
        "file name: 262.jpg index: 153978552 154285752\n",
        "file name: 229.jpg index: 154285752 154592952\n",
        "file name:"
       ]
      },
      {
       "output_type": "stream",
       "stream": "stdout",
       "text": [
        " 155.jpg index: 154592952 154900152\n",
        "file name: 308.jpg index: 154900152 156373508\n",
        "file name:"
       ]
      },
      {
       "ename": "ValueError",
       "evalue": "could not broadcast input array from shape (10077696) into shape (307200)",
       "output_type": "pyerr",
       "traceback": [
        "\u001b[1;31m---------------------------------------------------------------------------\u001b[0m\n\u001b[1;31mValueError\u001b[0m                                Traceback (most recent call last)",
        "\u001b[1;32m<ipython-input-4-9e63cdd5c07b>\u001b[0m in \u001b[0;36m<module>\u001b[1;34m()\u001b[0m\n\u001b[0;32m     31\u001b[0m     \u001b[0mim\u001b[0m \u001b[1;33m=\u001b[0m \u001b[0mnumpy\u001b[0m\u001b[1;33m.\u001b[0m\u001b[0mndarray\u001b[0m\u001b[1;33m.\u001b[0m\u001b[0mflatten\u001b[0m\u001b[1;33m(\u001b[0m\u001b[0mim\u001b[0m\u001b[1;33m)\u001b[0m \u001b[1;31m# prediction image\u001b[0m\u001b[1;33m\u001b[0m\u001b[0m\n\u001b[0;32m     32\u001b[0m     \u001b[0mim0\u001b[0m \u001b[1;33m=\u001b[0m \u001b[0mnumpy\u001b[0m\u001b[1;33m.\u001b[0m\u001b[0mndarray\u001b[0m\u001b[1;33m.\u001b[0m\u001b[0mflatten\u001b[0m\u001b[1;33m(\u001b[0m\u001b[0mim0\u001b[0m\u001b[1;33m)\u001b[0m \u001b[1;31m# label image\u001b[0m\u001b[1;33m\u001b[0m\u001b[0m\n\u001b[1;32m---> 33\u001b[1;33m     \u001b[0mpred\u001b[0m\u001b[1;33m[\u001b[0m\u001b[0mn\u001b[0m\u001b[1;33m:\u001b[0m \u001b[0mn\u001b[0m\u001b[1;33m+\u001b[0m\u001b[0mim\u001b[0m\u001b[1;33m.\u001b[0m\u001b[0mshape\u001b[0m\u001b[1;33m[\u001b[0m\u001b[1;36m0\u001b[0m\u001b[1;33m]\u001b[0m\u001b[1;33m]\u001b[0m \u001b[1;33m=\u001b[0m \u001b[0mim\u001b[0m\u001b[1;33m\u001b[0m\u001b[0m\n\u001b[0m\u001b[0;32m     34\u001b[0m     \u001b[0mlabel\u001b[0m\u001b[1;33m[\u001b[0m\u001b[0mn\u001b[0m\u001b[1;33m:\u001b[0m \u001b[0mn\u001b[0m\u001b[1;33m+\u001b[0m\u001b[0mim\u001b[0m\u001b[1;33m.\u001b[0m\u001b[0mshape\u001b[0m\u001b[1;33m[\u001b[0m\u001b[1;36m0\u001b[0m\u001b[1;33m]\u001b[0m\u001b[1;33m]\u001b[0m \u001b[1;33m=\u001b[0m \u001b[0mim0\u001b[0m\u001b[1;33m\u001b[0m\u001b[0m\n\u001b[0;32m     35\u001b[0m \u001b[1;33m\u001b[0m\u001b[0m\n",
        "\u001b[1;31mValueError\u001b[0m: could not broadcast input array from shape (10077696) into shape (307200)"
       ]
      },
      {
       "output_type": "stream",
       "stream": "stdout",
       "text": [
        " 253.jpg index: 156373508 156680708\n"
       ]
      }
     ],
     "prompt_number": 4
    },
    {
     "cell_type": "code",
     "collapsed": false,
     "input": [
      "label.shape, pred.shape"
     ],
     "language": "python",
     "metadata": {},
     "outputs": [
      {
       "metadata": {},
       "output_type": "pyout",
       "prompt_number": 9,
       "text": [
        "((156987908,), (156987908,))"
       ]
      }
     ],
     "prompt_number": 9
    },
    {
     "cell_type": "code",
     "collapsed": false,
     "input": [
      "fpr, tpr, t = metrics.roc_curve(label, pred, pos_label = 1)\n",
      "pre, rec, thre = metrics.precision_recall_curve(label, pred, pos_label=1)\n",
      "thre = threScale(thre)"
     ],
     "language": "python",
     "metadata": {},
     "outputs": [],
     "prompt_number": 3
    },
    {
     "cell_type": "code",
     "collapsed": false,
     "input": [
      "# ROC curve for training and testing\n",
      "area = metrics.auc(fpr, tpr)\n",
      "fig, ax = plt.subplots(figsize=(5, 5))\n",
      "p1 = plt.plot(fpr, tpr, label = 'testing')\n",
      "plt.grid(True)\n",
      "plt.xlabel('False Positive Rate')\n",
      "plt.ylabel('True Positive Rate')\n",
      "plt.title(r'ROC of text detection AUC = ' + str(area))\n",
      "# ax.legend(loc = 1)\n",
      "ax.set_xlim([0, 1])\n",
      "ax.set_ylim([0, 1])\n",
      "plt.savefig('roc.png')\n",
      "plt.savefig('roc.pdf')"
     ],
     "language": "python",
     "metadata": {},
     "outputs": [
      {
       "metadata": {},
       "output_type": "display_data",
       "png": "[encoded data removed]",
       "text": [
        "<matplotlib.figure.Figure at 0x2b6d310>"
       ]
      }
     ],
     "prompt_number": 10
    },
    {
     "cell_type": "code",
     "collapsed": false,
     "input": [
      "# compute the precision, recall and f measure for testing\n",
      "fig, ax = plt.subplots(figsize=(5, 5))\n",
      "plt.plot(thre, pre, label = 'precision')\n",
      "plt.plot(thre, rec, label = 'recall')\n",
      "plt.plot(thre, fmetric(pre, rec), label = 'f metric')\n",
      "plt.grid(True)\n",
      "plt.xlabel('Threshold')\n",
      "plt.ylabel('Metric Value')\n",
      "plt.title(r'Recall, Precision and F measure of text detection')\n",
      "ax.legend(loc = 1)\n",
      "ax.set_xlim([0, 1])\n",
      "ax.set_ylim([0, 1])\n",
      "plt.savefig('prf.png')\n",
      "plt.savefig('prf.pdf')"
     ],
     "language": "python",
     "metadata": {},
     "outputs": [
      {
       "metadata": {},
       "output_type": "display_data",
       "png": "[encoded data removed]",
       "text": [
        "<matplotlib.figure.Figure at 0x338ad90>"
       ]
      }
     ],
     "prompt_number": 14
    },
    {
     "cell_type": "code",
     "collapsed": false,
     "input": [
      "# compute the precision, recall and f measure for testing\n",
      "area = metrics.auc(pre, rec)\n",
      "fig, ax = plt.subplots(figsize=(5, 5))\n",
      "plt.plot(pre, rec, label = 'Precision/Recall')\n",
      "plt.grid(True)\n",
      "plt.xlabel('Precision')\n",
      "plt.ylabel('Recall')\n",
      "plt.title(r'Precision/Recall Curve AUC = ' + str(area))\n",
      "ax.legend(loc = 1)\n",
      "ax.set_xlim([0, 1])\n",
      "ax.set_ylim([0, 1])\n",
      "plt.savefig('prc.png')\n",
      "plt.savefig('prc.pdf')"
     ],
     "language": "python",
     "metadata": {},
     "outputs": [
      {
       "metadata": {},
       "output_type": "display_data",
       "png": "[encoded data removed]",
       "text": [
        "<matplotlib.figure.Figure at 0x3113150>"
       ]
      }
     ],
     "prompt_number": 13
    },
    {
     "cell_type": "code",
     "collapsed": false,
     "input": [],
     "language": "python",
     "metadata": {},
     "outputs": []
    }
   ],
   "metadata": {}
  }
 ]
}